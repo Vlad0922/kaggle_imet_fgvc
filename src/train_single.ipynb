{
 "cells": [
  {
   "cell_type": "code",
   "execution_count": 1,
   "metadata": {},
   "outputs": [],
   "source": [
    "import os\n",
    "import random\n",
    "\n",
    "import pandas as pd\n",
    "import numpy as np\n",
    "import scipy as sp\n",
    "\n",
    "import torch\n",
    "import torch.nn as nn\n",
    "import torchvision.models as models\n",
    "import torchvision.transforms as transforms\n",
    "\n",
    "\n",
    "from sklearn.model_selection import train_test_split\n",
    "from sklearn.metrics import accuracy_score, fbeta_score\n",
    "\n",
    "import tqdm\n",
    "from tqdm import tqdm_notebook\n",
    "\n",
    "import matplotlib.pyplot as plt\n",
    "%matplotlib inline\n",
    "\n",
    "from collections import defaultdict\n",
    "\n",
    "from joblib import Parallel, delayed\n",
    "\n",
    "import scipy as sp\n",
    "\n",
    "import gc\n",
    "\n",
    "from adamw import AdamW\n",
    "from clr import CyclicLR\n",
    "\n",
    "import pickle\n",
    "\n",
    "import cv2\n",
    "\n",
    "from augmentations import *\n",
    "from trainer import *\n",
    "from utils import *\n",
    "from datasets import *\n",
    "from models import *\n",
    "from losses import *"
   ]
  },
  {
   "cell_type": "code",
   "execution_count": 2,
   "metadata": {},
   "outputs": [],
   "source": [
    "seed_everything()"
   ]
  },
  {
   "cell_type": "code",
   "execution_count": 10,
   "metadata": {},
   "outputs": [],
   "source": [
    "# pretrainedmodels.model_names"
   ]
  },
  {
   "cell_type": "code",
   "execution_count": 11,
   "metadata": {},
   "outputs": [],
   "source": [
    "def get_f2_score(model, loader, test_df, use_sigmoid=False, t=0.2, binarize_func=None):\n",
    "    logits = predict(model, loader)\n",
    "    if use_sigmoid:\n",
    "        logits = sigmoid(logits)\n",
    "    lbls_oh = create_oh_labels(test_df, len(labels_df))\n",
    "\n",
    "    return fbeta_score(lbls_oh, logits >= t, 2, average='micro')"
   ]
  },
  {
   "cell_type": "code",
   "execution_count": 13,
   "metadata": {},
   "outputs": [],
   "source": [
    "class DynamicWeightsSampler(torch.utils.data.sampler.WeightedRandomSampler):\n",
    "    def __init__(self, undersample=0.9, oversample=1.25, **kwargs):\n",
    "        super().__init__(**kwargs)\n",
    "        self.mean_weights = self.weights.mean().item()\n",
    "        self.over_sample = oversample\n",
    "        self.under_sample = undersample\n",
    "        \n",
    "    def step(self):\n",
    "        self.weights[self.weights <= self.mean_weights] *= self.over_sample\n",
    "        self.weights[self.weights > self.mean_weights] *= self.under_sample"
   ]
  },
  {
   "cell_type": "code",
   "execution_count": 14,
   "metadata": {},
   "outputs": [],
   "source": [
    "def f2_threshold_wise(y_true, probs, tvals=np.linspace(0.1, 0.9, 100), disable_tqdm=False, zero_labels=[]):\n",
    "    def _process_single(t):\n",
    "        preds = binarize_prediction(probs, t)\n",
    "        return fbeta_score(y_true, preds, 2, average='samples')\n",
    "    \n",
    "    return Parallel(n_jobs=16)(delayed(_process_single)(t) for t in tqdm_notebook(tvals, disable=disable_tqdm, leave=False))"
   ]
  },
  {
   "cell_type": "code",
   "execution_count": 16,
   "metadata": {},
   "outputs": [],
   "source": [
    "def fbeta_min(t, y_true, logits):\n",
    "    return -1*fbeta_score(y_true, logits >= t, 2, average='micro')\n",
    "\n",
    "def reduce_loss(loss):\n",
    "    return loss.sum() / loss.shape[0]"
   ]
  },
  {
   "cell_type": "code",
   "execution_count": 20,
   "metadata": {},
   "outputs": [],
   "source": []
  },
  {
   "cell_type": "code",
   "execution_count": 21,
   "metadata": {},
   "outputs": [],
   "source": [
    "labels_df = pd.read_csv('../input/labels.csv')\n",
    "df = pd.read_csv('../input/train.csv')\n",
    "df['attribute_ids'] = df['attribute_ids'].apply(lambda x: [int(idx) for idx in x.split()])\n",
    "df['image'] = df['id'].apply(lambda idx: idx + '.png')"
   ]
  },
  {
   "cell_type": "code",
   "execution_count": 22,
   "metadata": {},
   "outputs": [],
   "source": [
    "df_labels_oh = create_oh_labels(df, len(labels_df)).astype(int)\n",
    "labels_freq = df_labels_oh.sum(axis=0)"
   ]
  },
  {
   "cell_type": "code",
   "execution_count": 23,
   "metadata": {},
   "outputs": [
    {
     "data": {
      "text/plain": [
       "0.9592021758839528"
      ]
     },
     "execution_count": 23,
     "metadata": {},
     "output_type": "execute_result"
    }
   ],
   "source": [
    "sum(labels_freq > 3)/len(labels_freq)"
   ]
  },
  {
   "cell_type": "code",
   "execution_count": 24,
   "metadata": {},
   "outputs": [],
   "source": [
    "all_lbls_oh = create_oh_labels(df, len(labels_df))\n",
    "class_freq = all_lbls_oh.sum(axis=0)/all_lbls_oh.shape[0]"
   ]
  },
  {
   "cell_type": "code",
   "execution_count": 26,
   "metadata": {},
   "outputs": [],
   "source": [
    "# _ = plt.hist(base_weights, bins=25)"
   ]
  },
  {
   "cell_type": "code",
   "execution_count": 27,
   "metadata": {},
   "outputs": [
    {
     "name": "stderr",
     "output_type": "stream",
     "text": [
      "100%|██████████| 109237/109237 [00:01<00:00, 72255.84it/s]\n"
     ]
    }
   ],
   "source": [
    "folds = make_folds(df, 5)"
   ]
  },
  {
   "cell_type": "code",
   "execution_count": 28,
   "metadata": {},
   "outputs": [],
   "source": [
    "train_df, val_df = df[folds != 0].copy(), df[folds == 0].copy()"
   ]
  },
  {
   "cell_type": "code",
   "execution_count": null,
   "metadata": {},
   "outputs": [],
   "source": [
    "val_lbls_oh = create_oh_labels(val_df, len(labels_df))\n",
    "train_lbls_oh = create_oh_labels(train_df, len(labels_df))"
   ]
  },
  {
   "cell_type": "code",
   "execution_count": null,
   "metadata": {},
   "outputs": [],
   "source": [
    "f2_history_baseline = pickle.load(open('seresnext_256x256_f2.bin', 'rb'))\n",
    "val_history_baseline = pickle.load(open('seresnext_256x256_val.bin', 'rb'))\n",
    "train_history_baseline = pickle.load(open('seresnext_256x256_train.bin', 'rb'))"
   ]
  },
  {
   "cell_type": "code",
   "execution_count": null,
   "metadata": {},
   "outputs": [],
   "source": [
    "class ResizeAspect(object):\n",
    "    def __init__(self, size):\n",
    "        self.size = size\n",
    "        \n",
    "    def __call__(self, img):\n",
    "        img_shape = np.array(img.size)\n",
    "        coeff = np.min(img_shape/self.size)\n",
    "        \n",
    "        if coeff < 1:\n",
    "            target_shape = img_shape/coeff\n",
    "\n",
    "            return img.resize(target_shape.astype(int))\n",
    "        else:\n",
    "            return img"
   ]
  },
  {
   "cell_type": "code",
   "execution_count": null,
   "metadata": {},
   "outputs": [],
   "source": [
    "#brightness/contrast/gamma\n",
    "\n",
    "img_size = (300, 300)\n",
    "\n",
    "means = np.array([0.485, 0.456, 0.406])\n",
    "stds = np.array([0.229, 0.224, 0.225])\n",
    "\n",
    "train_trans = transforms.Compose([\n",
    "                     transforms.RandomCrop(img_size),\n",
    "                     transforms.RandomHorizontalFlip(p=0.5),\n",
    "                     RandomBrightness(p=0.5),\n",
    "                     RandomGamma(p=0.5),\n",
    "                     RandomHueSaturation(p=0.5),\n",
    "                ])\n",
    "\n",
    "val_trans = transforms.Compose([\n",
    "                     transforms.RandomCrop(img_size),                     \n",
    "                ])\n",
    "\n",
    "tensor_trans = transforms.Compose(\n",
    "                                [\n",
    "                                    transforms.ToTensor(),\n",
    "                                    transforms.Normalize(mean=means, std=stds), \n",
    "                                ])\n",
    "    "
   ]
  },
  {
   "cell_type": "code",
   "execution_count": null,
   "metadata": {},
   "outputs": [
    {
     "data": {
      "application/vnd.jupyter.widget-view+json": {
       "model_id": "603579ab0c7347cfbebc630f2f55bfd4",
       "version_major": 2,
       "version_minor": 0
      },
      "text/plain": [
       "HBox(children=(IntProgress(value=0, max=1), HTML(value='')))"
      ]
     },
     "metadata": {},
     "output_type": "display_data"
    },
    {
     "data": {
      "application/vnd.jupyter.widget-view+json": {
       "model_id": "",
       "version_major": 2,
       "version_minor": 0
      },
      "text/plain": [
       "HBox(children=(IntProgress(value=0, max=2732), HTML(value='')))"
      ]
     },
     "metadata": {},
     "output_type": "display_data"
    },
    {
     "data": {
      "application/vnd.jupyter.widget-view+json": {
       "model_id": "",
       "version_major": 2,
       "version_minor": 0
      },
      "text/plain": [
       "HBox(children=(IntProgress(value=0, max=50), HTML(value='')))"
      ]
     },
     "metadata": {},
     "output_type": "display_data"
    },
    {
     "name": "stdout",
     "output_type": "stream",
     "text": [
      "Train: 6.118, val: 3.984, f2: 0.398, best threshold: 0.255\n",
      "\n"
     ]
    },
    {
     "data": {
      "application/vnd.jupyter.widget-view+json": {
       "model_id": "6fd9c37a4244428ab980a99a60455737",
       "version_major": 2,
       "version_minor": 0
      },
      "text/plain": [
       "HBox(children=(IntProgress(value=0, max=15), HTML(value='')))"
      ]
     },
     "metadata": {},
     "output_type": "display_data"
    },
    {
     "data": {
      "application/vnd.jupyter.widget-view+json": {
       "model_id": "",
       "version_major": 2,
       "version_minor": 0
      },
      "text/plain": [
       "HBox(children=(IntProgress(value=0, max=2732), HTML(value='')))"
      ]
     },
     "metadata": {},
     "output_type": "display_data"
    },
    {
     "data": {
      "application/vnd.jupyter.widget-view+json": {
       "model_id": "",
       "version_major": 2,
       "version_minor": 0
      },
      "text/plain": [
       "HBox(children=(IntProgress(value=0, max=50), HTML(value='')))"
      ]
     },
     "metadata": {},
     "output_type": "display_data"
    },
    {
     "name": "stdout",
     "output_type": "stream",
     "text": [
      "Train: 3.272, val: 2.837, f2: 0.522, best threshold: 0.288\n"
     ]
    },
    {
     "data": {
      "application/vnd.jupyter.widget-view+json": {
       "model_id": "",
       "version_major": 2,
       "version_minor": 0
      },
      "text/plain": [
       "HBox(children=(IntProgress(value=0, max=2732), HTML(value='')))"
      ]
     },
     "metadata": {},
     "output_type": "display_data"
    },
    {
     "data": {
      "application/vnd.jupyter.widget-view+json": {
       "model_id": "",
       "version_major": 2,
       "version_minor": 0
      },
      "text/plain": [
       "HBox(children=(IntProgress(value=0, max=50), HTML(value='')))"
      ]
     },
     "metadata": {},
     "output_type": "display_data"
    },
    {
     "name": "stdout",
     "output_type": "stream",
     "text": [
      "Train: 2.781, val: 2.688, f2: 0.550, best threshold: 0.288\n"
     ]
    },
    {
     "data": {
      "application/vnd.jupyter.widget-view+json": {
       "model_id": "",
       "version_major": 2,
       "version_minor": 0
      },
      "text/plain": [
       "HBox(children=(IntProgress(value=0, max=2732), HTML(value='')))"
      ]
     },
     "metadata": {},
     "output_type": "display_data"
    },
    {
     "data": {
      "application/vnd.jupyter.widget-view+json": {
       "model_id": "",
       "version_major": 2,
       "version_minor": 0
      },
      "text/plain": [
       "HBox(children=(IntProgress(value=0, max=50), HTML(value='')))"
      ]
     },
     "metadata": {},
     "output_type": "display_data"
    },
    {
     "name": "stdout",
     "output_type": "stream",
     "text": [
      "Train: 2.514, val: 2.606, f2: 0.566, best threshold: 0.280\n"
     ]
    },
    {
     "data": {
      "application/vnd.jupyter.widget-view+json": {
       "model_id": "",
       "version_major": 2,
       "version_minor": 0
      },
      "text/plain": [
       "HBox(children=(IntProgress(value=0, max=2732), HTML(value='')))"
      ]
     },
     "metadata": {},
     "output_type": "display_data"
    },
    {
     "data": {
      "application/vnd.jupyter.widget-view+json": {
       "model_id": "",
       "version_major": 2,
       "version_minor": 0
      },
      "text/plain": [
       "HBox(children=(IntProgress(value=0, max=50), HTML(value='')))"
      ]
     },
     "metadata": {},
     "output_type": "display_data"
    },
    {
     "name": "stdout",
     "output_type": "stream",
     "text": [
      "Train: 2.322, val: 2.543, f2: 0.576, best threshold: 0.288\n"
     ]
    },
    {
     "data": {
      "application/vnd.jupyter.widget-view+json": {
       "model_id": "",
       "version_major": 2,
       "version_minor": 0
      },
      "text/plain": [
       "HBox(children=(IntProgress(value=0, max=2732), HTML(value='')))"
      ]
     },
     "metadata": {},
     "output_type": "display_data"
    },
    {
     "data": {
      "application/vnd.jupyter.widget-view+json": {
       "model_id": "",
       "version_major": 2,
       "version_minor": 0
      },
      "text/plain": [
       "HBox(children=(IntProgress(value=0, max=50), HTML(value='')))"
      ]
     },
     "metadata": {},
     "output_type": "display_data"
    },
    {
     "name": "stdout",
     "output_type": "stream",
     "text": [
      "Train: 2.163, val: 2.559, f2: 0.580, best threshold: 0.288\n"
     ]
    },
    {
     "data": {
      "application/vnd.jupyter.widget-view+json": {
       "model_id": "",
       "version_major": 2,
       "version_minor": 0
      },
      "text/plain": [
       "HBox(children=(IntProgress(value=0, max=2732), HTML(value='')))"
      ]
     },
     "metadata": {},
     "output_type": "display_data"
    },
    {
     "data": {
      "application/vnd.jupyter.widget-view+json": {
       "model_id": "",
       "version_major": 2,
       "version_minor": 0
      },
      "text/plain": [
       "HBox(children=(IntProgress(value=0, max=50), HTML(value='')))"
      ]
     },
     "metadata": {},
     "output_type": "display_data"
    },
    {
     "name": "stdout",
     "output_type": "stream",
     "text": [
      "Train: 2.025, val: 2.556, f2: 0.586, best threshold: 0.288\n"
     ]
    },
    {
     "data": {
      "application/vnd.jupyter.widget-view+json": {
       "model_id": "d0cbbeb46d884aa584c2e694de0d454c",
       "version_major": 2,
       "version_minor": 0
      },
      "text/plain": [
       "HBox(children=(IntProgress(value=0, max=2732), HTML(value='')))"
      ]
     },
     "metadata": {},
     "output_type": "display_data"
    }
   ],
   "source": [
    "batch_size = 32\n",
    "accum_steps = 2\n",
    "kwargs = {'num_workers': 8, 'pin_memory': True}\n",
    "\n",
    "sigmoid_out = True\n",
    "\n",
    "f2_history_mixup = list()\n",
    "train_history_mixup = list()\n",
    "val_history_mixup = list()\n",
    "\n",
    "train_dataset = BaselineDataset(train_df, '../input/train', len(labels_df), trans=train_trans, tensor_trans=tensor_trans)\n",
    "# train_dataset = BaselineZeroedDataset(train_df, '../input/train', len(labels_df), zero_classes=zero_classes,\n",
    "#                                       trans=train_trans, tensor_trans=tensor_trans)\n",
    "train_loader = torch.utils.data.DataLoader(train_dataset, batch_size=batch_size, shuffle=True, **kwargs)\n",
    "\n",
    "val_dataset = BaselineDataset(val_df, '../input/train', len(labels_df), trans=val_trans, tensor_trans=tensor_trans)\n",
    "val_loader = torch.utils.data.DataLoader(val_dataset, batch_size=batch_size, shuffle=False, **kwargs)\n",
    "\n",
    "\n",
    "model = NeuralNetComplexHead(SeResnext50Body(), len(labels_df),  sigmoid=sigmoid_out, use_drop=True, input_size=2048)\n",
    "model.cuda()\n",
    "\n",
    "loss_fn = FocalLoss(2)\n",
    "\n",
    "# loss_fn = nn.BCEWithLogitsLoss(pos_weight=pos_weights, reduction='mean')\n",
    "# loss_fn = nn.BCEWithLogitsLoss(reduction='none')\n",
    "# loss_fn = CustomF1Loss()\n",
    "\n",
    "lr = 1e-4\n",
    "\n",
    "optimizer = torch.optim.Adam(model.parameters(), lr=lr)\n",
    "# optimizer = AdamW(model.parameters(), lr=lr, weight_decay=5e-4)\n",
    "scheduler_epoch = torch.optim.lr_scheduler.ReduceLROnPlateau(optimizer, factor=0.2, patience=4, threshold=0.01, verbose=True)\n",
    "# scheduler_epoch = None\n",
    "scheduler = None\n",
    "\n",
    "head_epochs = 1\n",
    "body_epochs = 15\n",
    "\n",
    "N_CLASSES = 1103\n",
    "for epoch in tqdm.tnrange(head_epochs):\n",
    "    train_loss, val_loss, f2_loss = train_cycle(model, loss_fn, optimizer, None, train_loader, val_loader, \n",
    "                                                val_lbls_oh, 32, loss_reduction=None, iterate_threshold=True)\n",
    "\n",
    "    f2_history_mixup.append(f2_loss)\n",
    "    train_history_mixup.append(train_loss)\n",
    "    val_history_mixup.append(val_loss)\n",
    "    \n",
    "#     if scheduler_epoch:\n",
    "#         scheduler_epoch.step(val_loss)\n",
    "\n",
    "model.freeze_body(False)\n",
    "\n",
    "for epoch in tqdm.tnrange(15):\n",
    "    train_loss, val_loss, f2_loss = train_cycle(model, loss_fn, optimizer, scheduler, train_loader, val_loader, \n",
    "                                                val_lbls_oh, 32, loss_reduction=None, iterate_threshold=True)\n",
    "\n",
    "    f2_history_mixup.append(f2_loss)\n",
    "    train_history_mixup.append(train_loss)\n",
    "    val_history_mixup.append(val_loss)\n",
    "    \n",
    "    if scheduler_epoch:\n",
    "        scheduler_epoch.step(val_loss)    "
   ]
  },
  {
   "cell_type": "code",
   "execution_count": 40,
   "metadata": {},
   "outputs": [],
   "source": [
    "torch.save(model.state_dict(), 'seresnext50_fold_0_epoch_15_bce_bs16.pth')"
   ]
  },
  {
   "cell_type": "code",
   "execution_count": null,
   "metadata": {},
   "outputs": [],
   "source": []
  },
  {
   "cell_type": "code",
   "execution_count": 39,
   "metadata": {},
   "outputs": [
    {
     "data": {
      "text/plain": [
       "[<matplotlib.lines.Line2D at 0x7f6e337354a8>]"
      ]
     },
     "execution_count": 39,
     "metadata": {},
     "output_type": "execute_result"
    },
    {
     "data": {
      "image/png": "[encoded data removed]",
      "text/plain": [
       "<Figure size 432x288 with 1 Axes>"
      ]
     },
     "metadata": {
      "needs_background": "light"
     },
     "output_type": "display_data"
    }
   ],
   "source": [
    "plt.plot(f2_history_mixup)"
   ]
  },
  {
   "cell_type": "code",
   "execution_count": null,
   "metadata": {},
   "outputs": [],
   "source": [
    "plt.figure(figsize=(15,10))\n",
    "\n",
    "plt.plot(f2_history_baseline, label='Baseline')\n",
    "plt.plot(f2_history_mixup, label='Baseline + Mixup')\n",
    "plt.plot(f2_history_mixup_focal, label='Baseline + Mixup')\n",
    "\n",
    "plt.legend()"
   ]
  },
  {
   "cell_type": "code",
   "execution_count": 38,
   "metadata": {},
   "outputs": [
    {
     "data": {
      "text/plain": [
       "<matplotlib.legend.Legend at 0x7fbdd5eb84a8>"
      ]
     },
     "execution_count": 38,
     "metadata": {},
     "output_type": "execute_result"
    },
    {
     "data": {
      "image/png": "[encoded data removed]",
      "text/plain": [
       "<Figure size 1080x720 with 1 Axes>"
      ]
     },
     "metadata": {
      "needs_background": "light"
     },
     "output_type": "display_data"
    }
   ],
   "source": [
    "plt.figure(figsize=(15,10))\n",
    "\n",
    "plt.plot(val_history_baseline, label='Baseline')\n",
    "plt.plot(val_history_mixup, label='Baseline + Mixup')\n",
    "\n",
    "plt.legend()"
   ]
  },
  {
   "cell_type": "code",
   "execution_count": 91,
   "metadata": {},
   "outputs": [
    {
     "data": {
      "text/plain": [
       "<matplotlib.legend.Legend at 0x7ff4f37fc5c0>"
      ]
     },
     "execution_count": 91,
     "metadata": {},
     "output_type": "execute_result"
    },
    {
     "data": {
      "image/png": "[encoded data removed]",
      "text/plain": [
       "<Figure size 1080x720 with 1 Axes>"
      ]
     },
     "metadata": {
      "needs_background": "light"
     },
     "output_type": "display_data"
    }
   ],
   "source": [
    "plt.figure(figsize=(15,10))\n",
    "\n",
    "# plt.plot(val_history_baseline, label='Baseline')\n",
    "# plt.plot(val_history_2, label='Baseline + ADAM/SGD')\n",
    "plt.plot(val_history_3, label='Baseline + bs128 + Adam/SGD')\n",
    "# plt.plot(val_history_4, label='Baseline + SeResnet50 + bs128 + Adam/SGD')\n",
    "plt.plot(val_history_5, label='Baseline + SeResNext + bs128 + Adam/SGD')\n",
    "plt.plot(val_history_6, label='Baseline + SeResnext50 + 300x300 + bs64 + Adam/SGD')\n",
    "plt.legend()"
   ]
  }
 ],
 "metadata": {
  "kernelspec": {
   "display_name": "Python 3",
   "language": "python",
   "name": "python3"
  },
  "language_info": {
   "codemirror_mode": {
    "name": "ipython",
    "version": 3
   },
   "file_extension": ".py",
   "mimetype": "text/x-python",
   "name": "python",
   "nbconvert_exporter": "python",
   "pygments_lexer": "ipython3",
   "version": "3.7.1"
  }
 },
 "nbformat": 4,
 "nbformat_minor": 2
}
